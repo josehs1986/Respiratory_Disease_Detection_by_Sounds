{
 "cells": [
  {
   "cell_type": "markdown",
   "metadata": {},
   "source": [
    "# FRAMEWORK FOR PROCESSING AUDIO FILES APPLIED TO CLASSIFICATION OF RESPIRATORY DISEASES"
   ]
  },
  {
   "cell_type": "markdown",
   "metadata": {},
   "source": [
    "For an introduction to feature extraction from audio files see\n",
    "https://towardsdatascience.com/extract-features-of-music-75a3f9bc265d\n",
    "and later:\n",
    "https://medium.com/@sdoshi579/classification-of-music-into-different-genres-using-keras-82ab5339efe0"
   ]
  },
  {
   "cell_type": "markdown",
   "metadata": {},
   "source": [
    "## BASIC FEATURES\n",
    "### CONTROLLED SIZE MEL SPECTOGRAM (librosa.feature.melspectrogram())\n",
    "\n",
    "see https://github.com/josehs1986/Audio-Preprocessing/blob/audio/Melspectogram_Constant_Shape_Feature_Matrix.ipynb\n",
    "\n",
    "\n",
    "PARTS OF THIS NOTEBOOK WERE COPIED FROM BreathCycleClassification_v3_May30 (Isuru Sachitha @ kaggle)\n"
   ]
  },
  {
   "cell_type": "markdown",
   "metadata": {},
   "source": [
    "# BASIC LIBRARIES"
   ]
  },
  {
   "cell_type": "code",
   "execution_count": 1,
   "metadata": {
    "_cell_guid": "b1076dfc-b9ad-4769-8c92-a6c4dae69d19",
    "_uuid": "8f2839f25d086af736a60e9eeb907d3b93b6e0e5",
    "execution": {
     "iopub.execute_input": "2021-05-30T16:41:10.081461Z",
     "iopub.status.busy": "2021-05-30T16:41:10.080998Z",
     "iopub.status.idle": "2021-05-30T16:41:13.72207Z",
     "shell.execute_reply": "2021-05-30T16:41:13.721223Z",
     "shell.execute_reply.started": "2021-05-30T16:41:10.081375Z"
    },
    "scrolled": false
   },
   "outputs": [
    {
     "name": "stderr",
     "output_type": "stream",
     "text": [
      "c:\\users\\diego\\miniconda3\\lib\\site-packages\\pydub\\utils.py:170: RuntimeWarning: Couldn't find ffmpeg or avconv - defaulting to ffmpeg, but may not work\n",
      "  warn(\"Couldn't find ffmpeg or avconv - defaulting to ffmpeg, but may not work\", RuntimeWarning)\n"
     ]
    }
   ],
   "source": [
    "\n",
    "import matplotlib.pyplot as plt\n",
    "\n",
    "import seaborn as sns\n",
    "import librosa\n",
    "\n",
    "import soundfile as sf\n",
    "\n",
    "import librosa.display\n",
    "\n",
    "from scipy import signal\n",
    "from scipy import stats\n",
    "from scipy.io import wavfile\n",
    "\n",
    "from pydub import AudioSegment\n",
    "\n",
    "import IPython\n",
    "import IPython.display as ipd\n",
    "from IPython.display import Audio, Javascript\n",
    "\n",
    "from tqdm import tqdm\n",
    "\n",
    "from skimage.restoration import denoise_wavelet\n",
    "\n",
    "# MODELS\n",
    "from sklearn.neighbors import KNeighborsClassifier\n",
    "from sklearn.neighbors import NearestNeighbors\n",
    "from sklearn.neural_network import MLPClassifier\n",
    "from sklearn.svm import SVC\n",
    "from sklearn.linear_model import LogisticRegression\n",
    "from sklearn.linear_model import RidgeClassifier\n",
    "from sklearn.linear_model import SGDClassifier\n",
    "from sklearn.linear_model import PassiveAggressiveClassifier\n",
    "from sklearn.tree import DecisionTreeClassifier\n",
    "from sklearn.tree import ExtraTreeClassifier\n",
    "from sklearn.naive_bayes import GaussianNB\n",
    "from sklearn.ensemble import AdaBoostClassifier\n",
    "from sklearn.ensemble import BaggingClassifier\n",
    "from sklearn.ensemble import RandomForestClassifier\n",
    "from sklearn.ensemble import ExtraTreesClassifier\n",
    "from sklearn.gaussian_process import GaussianProcessClassifier\n",
    "from sklearn.ensemble import GradientBoostingClassifier\n",
    "from sklearn.discriminant_analysis import LinearDiscriminantAnalysis\n",
    "from sklearn.discriminant_analysis import QuadraticDiscriminantAnalysis\n",
    "\n",
    "from sklearn.preprocessing import normalize\n",
    "from sklearn.preprocessing import MinMaxScaler\n",
    "\n",
    "# BASIC METRICS\n",
    "from sklearn.metrics import confusion_matrix\n",
    "from sklearn.metrics import plot_confusion_matrix\n",
    "from sklearn.metrics import accuracy_score\n",
    "from sklearn.metrics import auc\n",
    "from sklearn.metrics import plot_roc_curve\n",
    "from sklearn.metrics import multilabel_confusion_matrix\n",
    "\n",
    "# VALIDATION METHODS\n",
    "from sklearn.model_selection import train_test_split\n",
    "from sklearn.model_selection import cross_val_score\n",
    "from sklearn.model_selection import cross_validate\n",
    "from sklearn.model_selection import StratifiedKFold\n",
    "from sklearn.model_selection import KFold\n",
    "\n",
    "# FEATURE SELECTION METHODS\n",
    "from sklearn.decomposition import PCA\n",
    "from sklearn.feature_selection import SequentialFeatureSelector\n",
    "\n",
    "# GENERAL USE LIBRARIES\n",
    "import matplotlib.pyplot as plt\n",
    "from mpl_toolkits.mplot3d import Axes3D\n",
    "\n",
    "import itertools\n",
    "\n",
    "from operator import truediv\n",
    "\n",
    "import time\n",
    "\n",
    "import numpy as np # linear algebra\n",
    "import pandas as pd # data processing, CSV file I/O (e.g. pd.read_csv)\n",
    "\n",
    "import os\n",
    "from os import listdir\n",
    "from os.path import isfile, join\n",
    "\n",
    "# for dirname, _, filenames in os.walk('C:/Users/diego/Google Drive/IA/datasets/respiratory_sound'): #('/kaggle/input'):\n",
    "#     for filename in filenames:\n",
    "#         #print(os.path.join(dirname, filename))\n",
    "#         pass\n",
    "\n",
    "# You can write up to 20GB to the current directory (/kaggle/working/) that gets preserved as output when you create a version using \"Save & Run All\" \n",
    "# You can also write temporary files to /kaggle/temp/, but they won't be saved outside of the current session\n"
   ]
  },
  {
   "cell_type": "markdown",
   "metadata": {},
   "source": [
    "# METHODS'S SUIT"
   ]
  },
  {
   "cell_type": "code",
   "execution_count": 2,
   "metadata": {},
   "outputs": [],
   "source": [
    "# get a list of models to evaluate\n",
    "\n",
    "def get_models(n_neighbors=10, kernel='poly', C=1, solver='lbfgs',hidden_layer_sizes=(100,50),max_iter=1000):\n",
    "    models = list()\n",
    "    models.append(KNeighborsClassifier(n_neighbors=n_neighbors))\n",
    "#     models.append(SVC(kernel=kernel, C=C))\n",
    "#     models.append(MLPClassifier(solver=solver,hidden_layer_sizes=hidden_layer_sizes,max_iter=max_iter))\n",
    "#     models.append(LogisticRegression())\n",
    "#     models.append(RidgeClassifier())\n",
    "#     models.append(SGDClassifier())\n",
    "#     models.append(PassiveAggressiveClassifier())\n",
    "#     models.append(DecisionTreeClassifier())\n",
    "#     models.append(ExtraTreeClassifier())\n",
    "#     models.append(LinearSVC())\n",
    "#     models.append(GaussianNB())\n",
    "#     models.append(AdaBoostClassifier())\n",
    "#     models.append(BaggingClassifier())\n",
    "    models.append(RandomForestClassifier())\n",
    "#     models.append(ExtraTreesClassifier())\n",
    "#     models.append(GradientBoostingClassifier())\n",
    "#     models.append(LinearDiscriminantAnalysis())\n",
    "#     models.append(QuadraticDiscriminantAnalysis())\n",
    "#     models.append(GaussianProcessClassifier())    # too slow and not he best !!!\n",
    "    return models"
   ]
  },
  {
   "cell_type": "markdown",
   "metadata": {},
   "source": [
    "# AUXILIARY FUNCTIONS"
   ]
  },
  {
   "cell_type": "code",
   "execution_count": 3,
   "metadata": {},
   "outputs": [],
   "source": [
    "# evaluate the model using a given test condition\n",
    "# inputs: cv = test conditions, model=model, X, y = data and labels, metric = metric\n",
    "\n",
    "def evaluate_model(cv, model, X, y, metric):\n",
    "    \n",
    "    # evaluate the model\n",
    "    scores = cross_val_score(model, X, y, scoring=metric, cv=cv, n_jobs=-1)\n",
    "    \n",
    "    # return scores\n",
    "    return np.mean(scores)\n"
   ]
  },
  {
   "cell_type": "code",
   "execution_count": 4,
   "metadata": {},
   "outputs": [],
   "source": [
    "# COMPARISON OF MODELS WITH USING CROSS-VALIDATION\n",
    "\n",
    "def Compare_Models(X,Y,n_splits=5,random_state=142):\n",
    "\n",
    "    #selected number of features\n",
    "    feat_nmb=X.shape[1]\n",
    "\n",
    "    # define test conditions\n",
    "\n",
    "    cv = KFold(n_splits=n_splits, shuffle=True, random_state=random_state)\n",
    "\n",
    "    # get the list of models to consider\n",
    "    models = get_models() # n_neighbors=10, kernel='poly', C=1, solver='lbfgs',hidden_layer_sizes=(30)\n",
    "\n",
    "    # set lists to collect results\n",
    "    cv_results = list()\n",
    "\n",
    "    # evaluate each model\n",
    "\n",
    "    metric='accuracy'   \n",
    "\n",
    "    ctr=1\n",
    "    \n",
    "    for model in models:\n",
    "\n",
    "        # evaluate model using each test condition\n",
    "        cv_mean = evaluate_model(cv, model, X[:,:feat_nmb], Y, metric)\n",
    "\n",
    "        # check for invalid results\n",
    "        if np.isnan(cv_mean): \n",
    "            continue\n",
    "\n",
    "        # store results\n",
    "        cv_results.append(cv_mean)\n",
    "\n",
    "        # summarize progress\n",
    "        print('%d>%s:, cv=%.3f' % (ctr,type(model).__name__, cv_mean))\n",
    "        ctr+=1\n",
    "\n",
    "    ord_index=np.argsort(cv_results)\n",
    "\n",
    "    model=models[ord_index[-1]]\n",
    "    print()\n",
    "    print(\"best classifier with all features:\",model,metric,round(cv_results[ord_index[-1]],4))\n",
    "\n",
    "    for i in range(len(models)):\n",
    "        plt.bar(models[i].__class__.__name__,cv_results[i])\n",
    "    plt.xticks(rotation=90.0)#direction='out', length=6, width=2, colors='r',grid_color='r', grid_alpha=0.5)\n",
    "    plt.show()\n",
    "    \n",
    "    return(model)\n"
   ]
  },
  {
   "cell_type": "code",
   "execution_count": 5,
   "metadata": {},
   "outputs": [],
   "source": [
    "# SEQUENTIAL FEATURE SELECTION FOR A GIVEN MODEL LIST\n",
    "\n",
    "def Feature_Selector(models,X,Y,feature_names,n_splits=5,random_state=142):\n",
    "    \n",
    "    cv = KFold(n_splits=n_splits, shuffle=True, random_state=random_state)\n",
    "\n",
    "    if len(feature_names)==0:\n",
    "        feature_names=np.arange(X.shape[1])\n",
    "        \n",
    "    best_features_indexes=[]\n",
    "    best_features_names=[]\n",
    "    max_scores=[]\n",
    "    \n",
    "    nf=X.shape[1]\n",
    "    \n",
    "    for model in models: \n",
    "\n",
    "        print()\n",
    "        print(model)\n",
    "        \n",
    "        max_score=-1\n",
    "\n",
    "        for n_features_to_select in range(1,nf): \n",
    "\n",
    "            # # number of feature combinations \n",
    "            # ncombs=1\n",
    "            # if sel_feat<n_components:\n",
    "            #     ncombs = math.factorial(n_components)/math.factorial(n_components-sel_feat)/math.factorial(sel_feat)    \n",
    "            # print(ncombs)    \n",
    "\n",
    "            sfs = SequentialFeatureSelector(estimator=model, n_features_to_select=n_features_to_select).fit(X, Y)\n",
    "\n",
    "            X_sel=sfs.transform(X)\n",
    "\n",
    "            selected=sfs.get_support()\n",
    "\n",
    "            sel_features=[]\n",
    "\n",
    "            for f in range(nf):\n",
    "                if selected[f]:\n",
    "                    sel_features.append(feature_names[f])\n",
    "\n",
    "            print(\"selected features: \",sel_features)\n",
    "            scores = cross_val_score(model, X_sel, Y, scoring='accuracy', cv=cv, n_jobs=-1)\n",
    "            print(\"average score: \",round(np.mean(scores),4),\" (\",round(np.std(scores),4),\")\")\n",
    "\n",
    "            if max_score<np.mean(scores):\n",
    "                max_score=np.mean(scores)\n",
    "                best_features_index=selected\n",
    "                best_features_name=sel_features\n",
    "\n",
    "        best_features_indexes.append(best_features_index)\n",
    "        best_features_names.append(best_features_name)\n",
    "        max_scores.append(max_score)\n",
    "        \n",
    "    return  best_features_index, best_features_names, max_scores\n"
   ]
  },
  {
   "cell_type": "code",
   "execution_count": 6,
   "metadata": {},
   "outputs": [],
   "source": [
    "def plot_confusion_matrix(cm,target_names,title='Confusion matrix',cmap=None,normalize=True):\n",
    "    \n",
    "    \"\"\"\n",
    "    Citation\n",
    "    ---------\n",
    "    http://scikit-learn.org/stable/auto_examples/model_selection/plot_confusion_matrix.html\n",
    "\n",
    "    given a sklearn confusion matrix (cm), make a nice plot\n",
    "\n",
    "    Arguments\n",
    "    ---------\n",
    "    cm:           confusion matrix from sklearn.metrics.confusion_matrix\n",
    "\n",
    "    target_names: given classification classes such as [0, 1, 2]\n",
    "                  the class names, for example: ['high', 'medium', 'low']\n",
    "\n",
    "    title:        the text to display at the top of the matrix\n",
    "\n",
    "    cmap:         the gradient of the values displayed from matplotlib.pyplot.cm\n",
    "                  see http://matplotlib.org/examples/color/colormaps_reference.html\n",
    "                  plt.get_cmap('jet') or plt.cm.Blues\n",
    "\n",
    "    normalize:    If False, plot the raw numbers\n",
    "                  If True, plot the proportions\n",
    "\n",
    "    Usage\n",
    "    -----\n",
    "    plot_confusion_matrix(cm           = cm,                  # confusion matrix created by\n",
    "                                                              # sklearn.metrics.confusion_matrix\n",
    "                          normalize    = True,                # show proportions\n",
    "                          target_names = y_labels_vals,       # list of names of the classes\n",
    "                          title        = best_estimator_name) # title of graph\n",
    "\n",
    "    \n",
    "    \"\"\"\n",
    "   \n",
    "    accuracy = np.trace(cm) / float(np.sum(cm))\n",
    "    misclass = 1 - accuracy\n",
    "\n",
    "    if cmap is None:\n",
    "        cmap = plt.get_cmap('Blues')\n",
    "\n",
    "    plt.figure(figsize=(8, 6))\n",
    "    plt.imshow(cm, interpolation='nearest', cmap=cmap)\n",
    "    plt.title(title)\n",
    "    plt.colorbar()\n",
    "\n",
    "    if target_names is not None:\n",
    "        tick_marks = np.arange(len(target_names))\n",
    "        plt.xticks(tick_marks, target_names, rotation=45)\n",
    "        plt.yticks(tick_marks, target_names)\n",
    "\n",
    "    if normalize:\n",
    "        cm = cm.astype('float') / cm.sum(axis=1)[:, np.newaxis]\n",
    "\n",
    "    thresh = cm.max() / 1.5 if normalize else cm.max() / 2\n",
    "    for i, j in itertools.product(range(cm.shape[0]), range(cm.shape[1])):\n",
    "        if normalize:\n",
    "            plt.text(j, i, \"{:0.4f}\".format(cm[i, j]),\n",
    "                     horizontalalignment=\"center\",\n",
    "                     color=\"white\" if cm[i, j] > thresh else \"black\")\n",
    "        else:\n",
    "            plt.text(j, i, \"{:,}\".format(cm[i, j]),\n",
    "                     horizontalalignment=\"center\",\n",
    "                     color=\"white\" if cm[i, j] > thresh else \"black\")\n",
    "\n",
    "\n",
    "    plt.tight_layout()\n",
    "    plt.ylabel('True label')\n",
    "    plt.xlabel('Predicted label\\naccuracy={:0.4f}; misclass={:0.4f}'.format(accuracy, misclass))\n",
    "    plt.show()"
   ]
  },
  {
   "cell_type": "markdown",
   "metadata": {},
   "source": [
    "# PIPELINE"
   ]
  },
  {
   "attachments": {
    "image.png": {
     "image/png": "[encoded data removed]"
    }
   },
   "cell_type": "markdown",
   "metadata": {},
   "source": [
    "![image.png](attachment:image.png)"
   ]
  },
  {
   "cell_type": "markdown",
   "metadata": {},
   "source": [
    "# Data-Set Reading and Pre-processing"
   ]
  },
  {
   "cell_type": "code",
   "execution_count": 7,
   "metadata": {
    "execution": {
     "iopub.execute_input": "2021-05-30T16:41:20.534505Z",
     "iopub.status.busy": "2021-05-30T16:41:20.534236Z",
     "iopub.status.idle": "2021-05-30T16:41:20.570392Z",
     "shell.execute_reply": "2021-05-30T16:41:20.569469Z",
     "shell.execute_reply.started": "2021-05-30T16:41:20.534475Z"
    }
   },
   "outputs": [
    {
     "name": "stdout",
     "output_type": "stream",
     "text": [
      "number of patients:  126\n"
     ]
    },
    {
     "data": {
      "text/html": [
       "<div>\n",
       "<style scoped>\n",
       "    .dataframe tbody tr th:only-of-type {\n",
       "        vertical-align: middle;\n",
       "    }\n",
       "\n",
       "    .dataframe tbody tr th {\n",
       "        vertical-align: top;\n",
       "    }\n",
       "\n",
       "    .dataframe thead th {\n",
       "        text-align: right;\n",
       "    }\n",
       "</style>\n",
       "<table border=\"1\" class=\"dataframe\">\n",
       "  <thead>\n",
       "    <tr style=\"text-align: right;\">\n",
       "      <th></th>\n",
       "      <th>Patient ID</th>\n",
       "      <th>Diagnosis</th>\n",
       "      <th>Binary_diagnosis</th>\n",
       "    </tr>\n",
       "  </thead>\n",
       "  <tbody>\n",
       "    <tr>\n",
       "      <th>0</th>\n",
       "      <td>101</td>\n",
       "      <td>URTI</td>\n",
       "      <td>1</td>\n",
       "    </tr>\n",
       "    <tr>\n",
       "      <th>1</th>\n",
       "      <td>102</td>\n",
       "      <td>Healthy</td>\n",
       "      <td>0</td>\n",
       "    </tr>\n",
       "    <tr>\n",
       "      <th>2</th>\n",
       "      <td>103</td>\n",
       "      <td>Asthma</td>\n",
       "      <td>1</td>\n",
       "    </tr>\n",
       "    <tr>\n",
       "      <th>3</th>\n",
       "      <td>104</td>\n",
       "      <td>COPD</td>\n",
       "      <td>1</td>\n",
       "    </tr>\n",
       "    <tr>\n",
       "      <th>4</th>\n",
       "      <td>105</td>\n",
       "      <td>URTI</td>\n",
       "      <td>1</td>\n",
       "    </tr>\n",
       "  </tbody>\n",
       "</table>\n",
       "</div>"
      ],
      "text/plain": [
       "   Patient ID Diagnosis  Binary_diagnosis\n",
       "0         101      URTI                 1\n",
       "1         102   Healthy                 0\n",
       "2         103    Asthma                 1\n",
       "3         104      COPD                 1\n",
       "4         105      URTI                 1"
      ]
     },
     "execution_count": 7,
     "metadata": {},
     "output_type": "execute_result"
    }
   ],
   "source": [
    "# DIAGNOSIS DATA\n",
    "\n",
    "path='C:/Users/diego/Google Drive/IA/datasets/respiratory_sound'\n",
    "\n",
    "diagnosis_df = pd.read_csv(path+'/patient_diagnosis.csv', names=['Patient ID', 'Diagnosis'])\n",
    "\n",
    "nPatients=diagnosis_df.shape[0]\n",
    "print(\"number of patients: \",nPatients)\n",
    "\n",
    "# CREATING A BINARY CLASSIFICATION\n",
    "\n",
    "diagnosis_df['Binary_diagnosis'] = diagnosis_df['Diagnosis'].apply(lambda x: 0 if x =='Healthy'  else 1)\n",
    "diagnosis_df.head()"
   ]
  },
  {
   "cell_type": "code",
   "execution_count": 8,
   "metadata": {
    "execution": {
     "iopub.execute_input": "2021-05-30T16:41:20.57233Z",
     "iopub.status.busy": "2021-05-30T16:41:20.571987Z",
     "iopub.status.idle": "2021-05-30T16:41:20.595064Z",
     "shell.execute_reply": "2021-05-30T16:41:20.594087Z",
     "shell.execute_reply.started": "2021-05-30T16:41:20.572294Z"
    }
   },
   "outputs": [
    {
     "name": "stderr",
     "output_type": "stream",
     "text": [
      "c:\\users\\diego\\miniconda3\\lib\\site-packages\\ipykernel_launcher.py:6: SettingWithCopyWarning: \n",
      "A value is trying to be set on a copy of a slice from a DataFrame\n",
      "\n",
      "See the caveats in the documentation: https://pandas.pydata.org/pandas-docs/stable/user_guide/indexing.html#returning-a-view-versus-a-copy\n",
      "  \n"
     ]
    },
    {
     "data": {
      "text/html": [
       "<div>\n",
       "<style scoped>\n",
       "    .dataframe tbody tr th:only-of-type {\n",
       "        vertical-align: middle;\n",
       "    }\n",
       "\n",
       "    .dataframe tbody tr th {\n",
       "        vertical-align: top;\n",
       "    }\n",
       "\n",
       "    .dataframe thead th {\n",
       "        text-align: right;\n",
       "    }\n",
       "</style>\n",
       "<table border=\"1\" class=\"dataframe\">\n",
       "  <thead>\n",
       "    <tr style=\"text-align: right;\">\n",
       "      <th></th>\n",
       "      <th>Patient ID</th>\n",
       "      <th>Age</th>\n",
       "      <th>Sex</th>\n",
       "      <th>Adult BMI (kg/m2)</th>\n",
       "      <th>Child Weight (kg)</th>\n",
       "      <th>Child Height (cm)</th>\n",
       "    </tr>\n",
       "  </thead>\n",
       "  <tbody>\n",
       "    <tr>\n",
       "      <th>0</th>\n",
       "      <td>101</td>\n",
       "      <td>3.00</td>\n",
       "      <td>F</td>\n",
       "      <td>19.385777</td>\n",
       "      <td>19.0</td>\n",
       "      <td>99.0</td>\n",
       "    </tr>\n",
       "    <tr>\n",
       "      <th>1</th>\n",
       "      <td>102</td>\n",
       "      <td>0.75</td>\n",
       "      <td>F</td>\n",
       "      <td>18.389942</td>\n",
       "      <td>9.8</td>\n",
       "      <td>73.0</td>\n",
       "    </tr>\n",
       "    <tr>\n",
       "      <th>2</th>\n",
       "      <td>103</td>\n",
       "      <td>70.00</td>\n",
       "      <td>F</td>\n",
       "      <td>33.000000</td>\n",
       "      <td>NaN</td>\n",
       "      <td>NaN</td>\n",
       "    </tr>\n",
       "    <tr>\n",
       "      <th>3</th>\n",
       "      <td>104</td>\n",
       "      <td>70.00</td>\n",
       "      <td>F</td>\n",
       "      <td>28.470000</td>\n",
       "      <td>NaN</td>\n",
       "      <td>NaN</td>\n",
       "    </tr>\n",
       "    <tr>\n",
       "      <th>4</th>\n",
       "      <td>105</td>\n",
       "      <td>7.00</td>\n",
       "      <td>F</td>\n",
       "      <td>17.558299</td>\n",
       "      <td>32.0</td>\n",
       "      <td>135.0</td>\n",
       "    </tr>\n",
       "  </tbody>\n",
       "</table>\n",
       "</div>"
      ],
      "text/plain": [
       "   Patient ID    Age Sex  Adult BMI (kg/m2)  Child Weight (kg)  \\\n",
       "0         101   3.00   F          19.385777               19.0   \n",
       "1         102   0.75   F          18.389942                9.8   \n",
       "2         103  70.00   F          33.000000                NaN   \n",
       "3         104  70.00   F          28.470000                NaN   \n",
       "4         105   7.00   F          17.558299               32.0   \n",
       "\n",
       "   Child Height (cm)  \n",
       "0               99.0  \n",
       "1               73.0  \n",
       "2                NaN  \n",
       "3                NaN  \n",
       "4              135.0  "
      ]
     },
     "execution_count": 8,
     "metadata": {},
     "output_type": "execute_result"
    }
   ],
   "source": [
    "df_demog = pd.read_csv(path+'/demographic_info.txt', names = \n",
    "                 ['Patient ID', 'Age', 'Sex' , 'Adult BMI (kg/m2)', 'Child Weight (kg)' , 'Child Height (cm)'],\n",
    "                 delimiter = ' ')\n",
    "for p in range(df_demog.shape[0]):\n",
    "    if np.isnan(df_demog['Adult BMI (kg/m2)'][p]):\n",
    "        df_demog['Adult BMI (kg/m2)'][p] = 10000.0*df_demog['Child Weight (kg)'][p]/np.power(df_demog['Child Height (cm)'][p],2)\n",
    "df_demog.head()"
   ]
  },
  {
   "cell_type": "code",
   "execution_count": 15,
   "metadata": {},
   "outputs": [
    {
     "data": {
      "text/html": [
       "<div>\n",
       "<style scoped>\n",
       "    .dataframe tbody tr th:only-of-type {\n",
       "        vertical-align: middle;\n",
       "    }\n",
       "\n",
       "    .dataframe tbody tr th {\n",
       "        vertical-align: top;\n",
       "    }\n",
       "\n",
       "    .dataframe thead th {\n",
       "        text-align: right;\n",
       "    }\n",
       "</style>\n",
       "<table border=\"1\" class=\"dataframe\">\n",
       "  <thead>\n",
       "    <tr style=\"text-align: right;\">\n",
       "      <th></th>\n",
       "      <th>Patient ID</th>\n",
       "      <th>Age</th>\n",
       "      <th>Sex</th>\n",
       "      <th>Adult BMI (kg/m2)</th>\n",
       "      <th>Child Weight (kg)</th>\n",
       "      <th>Child Height (cm)</th>\n",
       "      <th>Diagnosis</th>\n",
       "      <th>Binary_diagnosis</th>\n",
       "    </tr>\n",
       "  </thead>\n",
       "  <tbody>\n",
       "    <tr>\n",
       "      <th>0</th>\n",
       "      <td>101</td>\n",
       "      <td>3.00</td>\n",
       "      <td>F</td>\n",
       "      <td>19.385777</td>\n",
       "      <td>19.0</td>\n",
       "      <td>99.0</td>\n",
       "      <td>URTI</td>\n",
       "      <td>1</td>\n",
       "    </tr>\n",
       "    <tr>\n",
       "      <th>1</th>\n",
       "      <td>102</td>\n",
       "      <td>0.75</td>\n",
       "      <td>F</td>\n",
       "      <td>18.389942</td>\n",
       "      <td>9.8</td>\n",
       "      <td>73.0</td>\n",
       "      <td>Healthy</td>\n",
       "      <td>0</td>\n",
       "    </tr>\n",
       "    <tr>\n",
       "      <th>2</th>\n",
       "      <td>103</td>\n",
       "      <td>70.00</td>\n",
       "      <td>F</td>\n",
       "      <td>33.000000</td>\n",
       "      <td>NaN</td>\n",
       "      <td>NaN</td>\n",
       "      <td>Asthma</td>\n",
       "      <td>1</td>\n",
       "    </tr>\n",
       "    <tr>\n",
       "      <th>3</th>\n",
       "      <td>104</td>\n",
       "      <td>70.00</td>\n",
       "      <td>F</td>\n",
       "      <td>28.470000</td>\n",
       "      <td>NaN</td>\n",
       "      <td>NaN</td>\n",
       "      <td>COPD</td>\n",
       "      <td>1</td>\n",
       "    </tr>\n",
       "    <tr>\n",
       "      <th>4</th>\n",
       "      <td>105</td>\n",
       "      <td>7.00</td>\n",
       "      <td>F</td>\n",
       "      <td>17.558299</td>\n",
       "      <td>32.0</td>\n",
       "      <td>135.0</td>\n",
       "      <td>URTI</td>\n",
       "      <td>1</td>\n",
       "    </tr>\n",
       "  </tbody>\n",
       "</table>\n",
       "</div>"
      ],
      "text/plain": [
       "   Patient ID    Age Sex  Adult BMI (kg/m2)  Child Weight (kg)  \\\n",
       "0         101   3.00   F          19.385777               19.0   \n",
       "1         102   0.75   F          18.389942                9.8   \n",
       "2         103  70.00   F          33.000000                NaN   \n",
       "3         104  70.00   F          28.470000                NaN   \n",
       "4         105   7.00   F          17.558299               32.0   \n",
       "\n",
       "   Child Height (cm) Diagnosis  Binary_diagnosis  \n",
       "0               99.0      URTI                 1  \n",
       "1               73.0   Healthy                 0  \n",
       "2                NaN    Asthma                 1  \n",
       "3                NaN      COPD                 1  \n",
       "4              135.0      URTI                 1  "
      ]
     },
     "execution_count": 15,
     "metadata": {},
     "output_type": "execute_result"
    }
   ],
   "source": [
    "df =  df_demog.join(diagnosis_df.set_index('Patient ID'), on = 'Patient ID', how = 'left')\n",
    "df.head()"
   ]
  },
  {
   "cell_type": "markdown",
   "metadata": {},
   "source": [
    "Label Audio Data"
   ]
  },
  {
   "cell_type": "code",
   "execution_count": 16,
   "metadata": {},
   "outputs": [],
   "source": [
    "def extract_annotation_data(file_name, root):\n",
    "    \n",
    "    # parsing filename\n",
    "    tokens = file_name.split('_') \n",
    "    recording_info = pd.DataFrame(data = [tokens], columns = ['Patient ID', 'Recording index', 'Chest location','Acquisition mode','Recording equipment'])\n",
    "    \n",
    "    # reading start-end and type of sound\n",
    "    recording_annotations = pd.read_csv(os.path.join(root, file_name + '.txt'), names = ['Start', 'End', 'Crackles', 'Wheezes'], delimiter= '\\t')\n",
    "    \n",
    "    return (recording_info, recording_annotations)"
   ]
  },
  {
   "cell_type": "code",
   "execution_count": 17,
   "metadata": {
    "execution": {
     "iopub.execute_input": "2021-05-30T16:41:20.618526Z",
     "iopub.status.busy": "2021-05-30T16:41:20.618052Z",
     "iopub.status.idle": "2021-05-30T16:41:26.963443Z",
     "shell.execute_reply": "2021-05-30T16:41:26.962689Z",
     "shell.execute_reply.started": "2021-05-30T16:41:20.618487Z"
    }
   },
   "outputs": [
    {
     "data": {
      "text/html": [
       "<div>\n",
       "<style scoped>\n",
       "    .dataframe tbody tr th:only-of-type {\n",
       "        vertical-align: middle;\n",
       "    }\n",
       "\n",
       "    .dataframe tbody tr th {\n",
       "        vertical-align: top;\n",
       "    }\n",
       "\n",
       "    .dataframe thead th {\n",
       "        text-align: right;\n",
       "    }\n",
       "</style>\n",
       "<table border=\"1\" class=\"dataframe\">\n",
       "  <thead>\n",
       "    <tr style=\"text-align: right;\">\n",
       "      <th></th>\n",
       "      <th>Patient ID</th>\n",
       "      <th>Recording index</th>\n",
       "      <th>Chest location</th>\n",
       "      <th>Acquisition mode</th>\n",
       "      <th>Recording equipment</th>\n",
       "    </tr>\n",
       "  </thead>\n",
       "  <tbody>\n",
       "    <tr>\n",
       "      <th>0</th>\n",
       "      <td>101</td>\n",
       "      <td>1b1</td>\n",
       "      <td>Al</td>\n",
       "      <td>sc</td>\n",
       "      <td>Meditron</td>\n",
       "    </tr>\n",
       "    <tr>\n",
       "      <th>0</th>\n",
       "      <td>101</td>\n",
       "      <td>1b1</td>\n",
       "      <td>Pr</td>\n",
       "      <td>sc</td>\n",
       "      <td>Meditron</td>\n",
       "    </tr>\n",
       "    <tr>\n",
       "      <th>0</th>\n",
       "      <td>102</td>\n",
       "      <td>1b1</td>\n",
       "      <td>Ar</td>\n",
       "      <td>sc</td>\n",
       "      <td>Meditron</td>\n",
       "    </tr>\n",
       "    <tr>\n",
       "      <th>0</th>\n",
       "      <td>103</td>\n",
       "      <td>2b2</td>\n",
       "      <td>Ar</td>\n",
       "      <td>mc</td>\n",
       "      <td>LittC2SE</td>\n",
       "    </tr>\n",
       "    <tr>\n",
       "      <th>0</th>\n",
       "      <td>104</td>\n",
       "      <td>1b1</td>\n",
       "      <td>Al</td>\n",
       "      <td>sc</td>\n",
       "      <td>Litt3200</td>\n",
       "    </tr>\n",
       "  </tbody>\n",
       "</table>\n",
       "</div>"
      ],
      "text/plain": [
       "  Patient ID Recording index Chest location Acquisition mode  \\\n",
       "0        101             1b1             Al               sc   \n",
       "0        101             1b1             Pr               sc   \n",
       "0        102             1b1             Ar               sc   \n",
       "0        103             2b2             Ar               mc   \n",
       "0        104             1b1             Al               sc   \n",
       "\n",
       "  Recording equipment  \n",
       "0            Meditron  \n",
       "0            Meditron  \n",
       "0            Meditron  \n",
       "0            LittC2SE  \n",
       "0            Litt3200  "
      ]
     },
     "execution_count": 17,
     "metadata": {},
     "output_type": "execute_result"
    }
   ],
   "source": [
    "root=path+'/txt/'\n",
    "\n",
    "# varro os arquivos .txt no diretorio e pego o nome do arquivo sem a extensao\n",
    "filenames = [f.split('.')[0] for f in os.listdir(path = root) if '.txt' in f]\n",
    "\n",
    "info_list = []\n",
    "rec_annotations = []\n",
    "rec_annotations_dict = {}\n",
    "\n",
    "for f in filenames:\n",
    "    \n",
    "    (info,annot) = extract_annotation_data(f, root)\n",
    "    info_list.append(info)\n",
    "    rec_annotations.append(annot)\n",
    "    rec_annotations_dict[f] = annot\n",
    "    \n",
    "recording_info = pd.concat(info_list, axis = 0)\n",
    "recording_info.head()"
   ]
  },
  {
   "cell_type": "code",
   "execution_count": 18,
   "metadata": {
    "execution": {
     "iopub.execute_input": "2021-05-30T16:41:26.964901Z",
     "iopub.status.busy": "2021-05-30T16:41:26.964577Z",
     "iopub.status.idle": "2021-05-30T16:41:26.972452Z",
     "shell.execute_reply": "2021-05-30T16:41:26.971533Z",
     "shell.execute_reply.started": "2021-05-30T16:41:26.964874Z"
    },
    "scrolled": false
   },
   "outputs": [],
   "source": [
    "# #rec_annotations_dict\n",
    "# print(rec_annotations_dict[filenames[0]]['Start'])#\n",
    "# print(rec_annotations_dict[filenames[0]]['End'])# \n",
    "# print(rec_annotations_dict[filenames[0]]['Crackles'])\n",
    "# print(rec_annotations_dict[filenames[0]]['Wheezes'])"
   ]
  },
  {
   "cell_type": "markdown",
   "metadata": {},
   "source": [
    "Pre-process audio files"
   ]
  },
  {
   "cell_type": "code",
   "execution_count": 19,
   "metadata": {
    "execution": {
     "iopub.execute_input": "2021-05-30T16:41:26.976103Z",
     "iopub.status.busy": "2021-05-30T16:41:26.975714Z",
     "iopub.status.idle": "2021-05-30T16:41:26.981306Z",
     "shell.execute_reply": "2021-05-30T16:41:26.980279Z",
     "shell.execute_reply.started": "2021-05-30T16:41:26.976067Z"
    }
   },
   "outputs": [],
   "source": [
    "def slice_audio(audiodata,samplerate,start,end):\n",
    "    start = samplerate * start \n",
    "    end   = samplerate * end\n",
    "    return audiodata[start:end]\n"
   ]
  },
  {
   "cell_type": "code",
   "execution_count": 20,
   "metadata": {
    "execution": {
     "iopub.execute_input": "2021-05-30T16:41:26.993904Z",
     "iopub.status.busy": "2021-05-30T16:41:26.993544Z",
     "iopub.status.idle": "2021-05-30T16:41:27.00249Z",
     "shell.execute_reply": "2021-05-30T16:41:27.001518Z",
     "shell.execute_reply.started": "2021-05-30T16:41:26.99387Z"
    }
   },
   "outputs": [],
   "source": [
    "def get_wav_files(audio_path):  \n",
    "    wav_files = sorted([f for f in os.listdir(path = audio_path) if '.wav' in f])\n",
    "    return wav_files"
   ]
  },
  {
   "cell_type": "code",
   "execution_count": 21,
   "metadata": {
    "execution": {
     "iopub.execute_input": "2021-05-30T16:41:27.306424Z",
     "iopub.status.busy": "2021-05-30T16:41:27.306094Z",
     "iopub.status.idle": "2021-05-30T16:41:27.480731Z",
     "shell.execute_reply": "2021-05-30T16:41:27.479698Z",
     "shell.execute_reply.started": "2021-05-30T16:41:27.306391Z"
    }
   },
   "outputs": [
    {
     "name": "stdout",
     "output_type": "stream",
     "text": [
      "['URTI' 'Healthy' 'Asthma' 'COPD' 'LRTI' 'Bronchiectasis' 'Pneumonia'\n",
      " 'Bronchiolitis']\n"
     ]
    },
    {
     "data": {
      "text/plain": [
       "<AxesSubplot:xlabel='Diagnosis', ylabel='count'>"
      ]
     },
     "execution_count": 21,
     "metadata": {},
     "output_type": "execute_result"
    },
    {
     "data": {
      "image/png": "[encoded data removed]",
      "text/plain": [
       "<Figure size 720x360 with 1 Axes>"
      ]
     },
     "metadata": {
      "needs_background": "light"
     },
     "output_type": "display_data"
    }
   ],
   "source": [
    "print(df['Diagnosis'].unique())\n",
    "plt.figure(figsize=(10,5))\n",
    "sns.countplot(df['Diagnosis'])"
   ]
  },
  {
   "cell_type": "code",
   "execution_count": 22,
   "metadata": {
    "execution": {
     "iopub.execute_input": "2021-05-30T16:41:27.482446Z",
     "iopub.status.busy": "2021-05-30T16:41:27.482102Z",
     "iopub.status.idle": "2021-05-30T16:41:27.70145Z",
     "shell.execute_reply": "2021-05-30T16:41:27.700698Z",
     "shell.execute_reply.started": "2021-05-30T16:41:27.4824Z"
    }
   },
   "outputs": [],
   "source": [
    "# df.to_csv(\"Diagnosis.csv\",index=False)"
   ]
  },
  {
   "cell_type": "markdown",
   "metadata": {},
   "source": [
    "# Clean unbalance classes (Asthma and LRTI)"
   ]
  },
  {
   "cell_type": "code",
   "execution_count": 23,
   "metadata": {
    "execution": {
     "iopub.execute_input": "2021-05-30T16:41:27.70292Z",
     "iopub.status.busy": "2021-05-30T16:41:27.702577Z",
     "iopub.status.idle": "2021-05-30T16:41:27.708385Z",
     "shell.execute_reply": "2021-05-30T16:41:27.707547Z",
     "shell.execute_reply.started": "2021-05-30T16:41:27.702884Z"
    }
   },
   "outputs": [],
   "source": [
    "# processed_df = df[ (df['Diagnosis'] !='Asthma') &  (df['Diagnosis'] !='LRTI') ]\n",
    "processes_df=df"
   ]
  },
  {
   "cell_type": "code",
   "execution_count": 24,
   "metadata": {
    "execution": {
     "iopub.execute_input": "2021-05-30T16:41:27.710205Z",
     "iopub.status.busy": "2021-05-30T16:41:27.709677Z",
     "iopub.status.idle": "2021-05-30T16:41:27.856419Z",
     "shell.execute_reply": "2021-05-30T16:41:27.855488Z",
     "shell.execute_reply.started": "2021-05-30T16:41:27.71017Z"
    }
   },
   "outputs": [],
   "source": [
    "# plt.figure(figsize=(10,5))\n",
    "# sns.countplot(processed_df['Diagnosis'])"
   ]
  },
  {
   "cell_type": "code",
   "execution_count": 25,
   "metadata": {
    "execution": {
     "iopub.execute_input": "2021-05-30T16:41:27.858062Z",
     "iopub.status.busy": "2021-05-30T16:41:27.857709Z",
     "iopub.status.idle": "2021-05-30T16:41:27.868955Z",
     "shell.execute_reply": "2021-05-30T16:41:27.867944Z",
     "shell.execute_reply.started": "2021-05-30T16:41:27.858025Z"
    }
   },
   "outputs": [],
   "source": [
    "# processed_df.head()"
   ]
  },
  {
   "cell_type": "markdown",
   "metadata": {},
   "source": [
    "# AUDIO FILE READING, TRANSFORMING AND VISUALIZING"
   ]
  },
  {
   "cell_type": "code",
   "execution_count": 26,
   "metadata": {
    "execution": {
     "iopub.execute_input": "2021-05-30T16:41:29.666625Z",
     "iopub.status.busy": "2021-05-30T16:41:29.666255Z",
     "iopub.status.idle": "2021-05-30T16:41:29.684506Z",
     "shell.execute_reply": "2021-05-30T16:41:29.68365Z",
     "shell.execute_reply.started": "2021-05-30T16:41:29.666587Z"
    }
   },
   "outputs": [],
   "source": [
    "# auxiliary fuctions\n",
    "\n",
    "def normalize(img):\n",
    "    '''\n",
    "    Normalizes an array \n",
    "    (subtract mean and divide by standard deviation)\n",
    "    '''\n",
    "    eps = 0.001\n",
    "    if np.std(img) != 0:\n",
    "        img = (img - np.mean(img)) / np.std(img)\n",
    "    else:\n",
    "        img = (img - np.mean(img)) / eps\n",
    "    return img\n",
    "\n",
    "def normalize_dataset(X):\n",
    "    '''\n",
    "    Normalizes list of arrays\n",
    "    (subtract mean and divide by standard deviation)\n",
    "    '''\n",
    "    normalized_dataset = []\n",
    "    for img in X:\n",
    "        normalized = normalize(img)\n",
    "        normalized_dataset.append(normalized)\n",
    "        \n",
    "    return normalized_dataset"
   ]
  },
  {
   "cell_type": "markdown",
   "metadata": {},
   "source": [
    "## BUILDING PRIMARY FEATURES (TIME DEPENDENT) BY SAMPLE (BY RECORDED FRAMES FROM PATIENTS) & TARGETS"
   ]
  },
  {
   "cell_type": "code",
   "execution_count": 27,
   "metadata": {},
   "outputs": [],
   "source": [
    "audio_files = get_wav_files(os.path.join(path,\"audio\"))\n",
    "n_audio_files = len(audio_files)"
   ]
  },
  {
   "cell_type": "code",
   "execution_count": 28,
   "metadata": {},
   "outputs": [
    {
     "name": "stderr",
     "output_type": "stream",
     "text": [
      "100%|████████████████████████████████████████████████████████████████████████████████| 200/200 [02:47<00:00,  1.19it/s]"
     ]
    },
    {
     "name": "stdout",
     "output_type": "stream",
     "text": [
      "nSamples:  1666\n"
     ]
    },
    {
     "name": "stderr",
     "output_type": "stream",
     "text": [
      "\n"
     ]
    }
   ],
   "source": [
    "# SPLITTING TIME SERIES IN FRAMES ANNOTATED, INDEXED BY FILE NAME AND FRAME INDEX WITHIN THE AUDIO FILE\n",
    "\n",
    "# PURE AUDIO\n",
    "\n",
    "test_files=200 # n_audio_files #100\n",
    "\n",
    "sample_wav=[] # list of audio strecht to classify\n",
    "sample_file=[] # list of source file of each strecht\n",
    "sample_window=[] # list of the number of the strecht within a patient's record\n",
    "targets=[] # 0 - none, 1 - crackles, 2 - wheezes, 3 - both\n",
    "\n",
    "for f in tqdm(audio_files[:test_files]):\n",
    "    y, sr = librosa.core.load(os.path.join(path,\"audio\",f))\n",
    "    ff=f.split('.')[0]   \n",
    "    for s in range(len(rec_annotations_dict[ff])):\n",
    "        Ed=int(sr*rec_annotations_dict[ff]['End'][s])+1\n",
    "        if Ed<y.shape[0]:\n",
    "            Bg=int(sr*rec_annotations_dict[ff]['Start'][s])\n",
    "            sample_window.append(s)\n",
    "            sample_file.append(ff)\n",
    "            sample_wav.append(y[Bg:Ed])\n",
    "            # binary classification\n",
    "            aux=rec_annotations_dict[ff]['Crackles'][s]+2*rec_annotations_dict[ff]['Wheezes'][s]\n",
    "            if aux>0:\n",
    "                targets.append(1) \n",
    "            else:\n",
    "                targets.append(0)\n",
    "                \n",
    "            # multiclass case\n",
    "            #targets.append(rec_annotations_dict[ff]['Crackles'][s]+2*rec_annotations_dict[ff]['Wheezes'][s])\n",
    "    \n",
    "nSamples=len(targets)\n",
    "print(\"nSamples: \",nSamples)\n",
    "# print(targets)\n"
   ]
  },
  {
   "cell_type": "code",
   "execution_count": 29,
   "metadata": {
    "execution": {
     "iopub.execute_input": "2021-05-30T16:41:29.659003Z",
     "iopub.status.busy": "2021-05-30T16:41:29.658652Z",
     "iopub.status.idle": "2021-05-30T16:41:29.664845Z",
     "shell.execute_reply": "2021-05-30T16:41:29.662988Z",
     "shell.execute_reply.started": "2021-05-30T16:41:29.658968Z"
    }
   },
   "outputs": [],
   "source": [
    "# Preprocessing parameters\n",
    "\n",
    "sr = 44100 # Sampling rate\n",
    "\n",
    "n_mels = 50\n",
    "\n",
    "n_fft = 4096\n"
   ]
  },
  {
   "cell_type": "code",
   "execution_count": 30,
   "metadata": {},
   "outputs": [
    {
     "name": "stdout",
     "output_type": "stream",
     "text": [
      "melspectogram shape  (50, 51)\n",
      "melspectogram shape  (50, 51)\n",
      "melspectogram shape  (50, 51)\n",
      "melspectogram shape  (50, 51)\n"
     ]
    },
    {
     "data": {
      "image/png": "[encoded data removed]",
      "text/plain": [
       "<Figure size 1080x216 with 4 Axes>"
      ]
     },
     "metadata": {
      "needs_background": "light"
     },
     "output_type": "display_data"
    },
    {
     "data": {
      "image/png": "[encoded data removed]",
      "text/plain": [
       "<Figure size 1080x216 with 8 Axes>"
      ]
     },
     "metadata": {
      "needs_background": "light"
     },
     "output_type": "display_data"
    }
   ],
   "source": [
    "# plotting some  mel-frequency spectograms\n",
    "\n",
    "# AUDIO\n",
    "\n",
    "pattern =['None','Crackles','Wheezes','Crackles&Wheezes']\n",
    "\n",
    "nex=4\n",
    "k=35\n",
    "\n",
    "fig2, a2 = plt.subplots(1,nex,figsize=(15,3))\n",
    "\n",
    "ctr=0\n",
    "for s in np.arange(k*nex,(k+1)*nex):\n",
    "    librosa.display.waveplot(sample_wav[s], sr=sr,ax=a2[ctr])\n",
    "#     a2[ctr].plot(np.arange(len(y))/sr,y)\n",
    "    a2[ctr].set(title='sound record - pattern '+pattern[targets[s]])\n",
    "    ctr+=1\n",
    "plt.show\n",
    "\n",
    "# MEL-FREQUENCY SPECTOGRAM\n",
    "\n",
    "fig, a = plt.subplots(1,nex,figsize=(15,3))\n",
    "\n",
    "ctr=0\n",
    "for s in np.arange(k*nex,(k+1)*nex): \n",
    "    S = librosa.feature.melspectrogram(y=sample_wav[s], \n",
    "                                       sr=sr, \n",
    "                                       n_fft = \n",
    "                                       n_fft, \n",
    "                                       hop_length=int(len(sample_wav[s])/n_mels), \n",
    "                                       n_mels=n_mels)#, n_mels=128)\n",
    "    S_dB = librosa.power_to_db(S, ref=np.max)\n",
    "    img = librosa.display.specshow(S_dB, x_axis='time',y_axis='mel', sr=sr, ax=a[ctr]) # fmax=8000\n",
    "    a[ctr].set(title='Mel-frequency spectrogram')\n",
    "    fig.colorbar(img, ax=a[ctr], format='%+2.0f dB')\n",
    "    print(\"melspectogram shape \",S.shape)\n",
    "#     print(\"melspectogram DB shape \",S_dB.shape)\n",
    "    ctr+=1\n",
    "    \n",
    "plt.show()"
   ]
  },
  {
   "cell_type": "code",
   "execution_count": 31,
   "metadata": {},
   "outputs": [
    {
     "name": "stdout",
     "output_type": "stream",
     "text": [
      "number of healty patients  766\n",
      "number of non healthy patients  900\n"
     ]
    }
   ],
   "source": [
    "# MEASURING NUMBER OF SAMPLES BY MEDICAL SYMPTOMS IN THE DATA SAMPLE\n",
    "\n",
    "Y=np.array(targets)\n",
    "\n",
    "print(\"number of healty patients \",np.sum(Y==0))\n",
    "print(\"number of non healthy patients \",np.sum(Y==1))\n",
    "# print(\"number of patients with Crackles \",np.sum(Y==1))\n",
    "# print(\"number of patients with Wheezes \",np.sum(Y==2))\n",
    "# print(\"number of patients with Crackles  & Wheezes \",np.sum(Y==3))\n",
    "\n"
   ]
  },
  {
   "cell_type": "code",
   "execution_count": 32,
   "metadata": {
    "scrolled": false
   },
   "outputs": [
    {
     "name": "stdout",
     "output_type": "stream",
     "text": [
      "number of features  2550\n"
     ]
    }
   ],
   "source": [
    "# BUILDING FEATURE DATASET \n",
    "\n",
    "test_samples=nSamples\n",
    "\n",
    "X=np.zeros((test_samples,n_mels*(n_mels+1)),dtype=float)\n",
    "for s in range(test_samples): #nSamples):\n",
    "    S = librosa.feature.melspectrogram(y=sample_wav[s], \n",
    "                                       sr=sr, \n",
    "                                       n_fft = n_fft,  \n",
    "                                       n_mels=n_mels,\n",
    "                                       hop_length=int(len(sample_wav[s])/n_mels))\n",
    "    \n",
    "    S_dB = librosa.power_to_db(S[:,:n_mels+1], ref=np.max)\n",
    "    X[s]=S_dB.flatten()\n",
    "\n",
    "\n",
    "nfeat=X.shape[1]\n",
    "print(\"number of features \",nfeat)\n"
   ]
  },
  {
   "cell_type": "code",
   "execution_count": 33,
   "metadata": {},
   "outputs": [
    {
     "name": "stdout",
     "output_type": "stream",
     "text": [
      "1>KNeighborsClassifier:, cv=0.801\n",
      "2>RandomForestClassifier:, cv=0.826\n",
      "\n",
      "best classifier with all features: RandomForestClassifier() accuracy 0.8259\n"
     ]
    },
    {
     "data": {
      "image/png": "[encoded data removed]",
      "text/plain": [
       "<Figure size 432x288 with 1 Axes>"
      ]
     },
     "metadata": {
      "needs_background": "light"
     },
     "output_type": "display_data"
    }
   ],
   "source": [
    "# COMPARISON OF MODELS WITH ALL FEATURES USING CROSS-VALIDATION\n",
    "\n",
    "n_splits=10\n",
    "model=Compare_Models(X[:test_samples,:],Y[:test_samples],n_splits=n_splits)\n"
   ]
  },
  {
   "cell_type": "code",
   "execution_count": null,
   "metadata": {},
   "outputs": [],
   "source": [
    "# PAREI - OTHER KIND OF FEATURES ...\n",
    "# chroma_stft = librosa.feature.chroma_stft(y=y, sr=sr)\n",
    "# rmse = librosa.feature.rmse(y=y)\n",
    "# spec_bw = librosa.feature.spectral_bandwidth(y=y, sr=sr)\n",
    "        "
   ]
  },
  {
   "cell_type": "code",
   "execution_count": 37,
   "metadata": {},
   "outputs": [
    {
     "name": "stdout",
     "output_type": "stream",
     "text": [
      "training data set contains  1166  samples and test dataset  500 \n",
      "\n",
      "Confusion matrix on training data:\n",
      "[[181  41]\n",
      " [ 50 228]]\n",
      "accuracy:  0.818\n"
     ]
    }
   ],
   "source": [
    "random_state=5\n",
    "\n",
    "X_train, X_test, Y_train, Y_test = train_test_split(X, Y, test_size=0.30, random_state=random_state)\n",
    "\n",
    "print(\"training data set contains \",X_train.shape[0],\" samples and test dataset \",X_test.shape[0],\"\\n\")\n",
    "\n",
    "# Declare a classifier class with the best model and best features\n",
    "Model = model\n",
    "\n",
    "# Fit the model with training data and target values\n",
    "Model.fit(X_train, Y_train)\n",
    "\n",
    "# Check with test data if everything is ok\n",
    "Y_pred = Model.predict(X_test)\n",
    "conf =  confusion_matrix(Y_pred,Y_test)\n",
    "print(\"Confusion matrix on training data:\")\n",
    "print(conf)\n",
    "\n",
    "T=0\n",
    "for i in range(conf.shape[0]):\n",
    "    T+=conf[i,i]\n",
    "               \n",
    "print(\"accuracy: \",T/np.sum(conf))\n",
    "\n",
    "\n",
    "# plot_confusion_matrix(Model, X_test, Y_test)  \n",
    "# plt.show()\n"
   ]
  },
  {
   "cell_type": "code",
   "execution_count": null,
   "metadata": {},
   "outputs": [],
   "source": []
  }
 ],
 "metadata": {
  "kernelspec": {
   "display_name": "Python 3",
   "language": "python",
   "name": "python3"
  },
  "language_info": {
   "codemirror_mode": {
    "name": "ipython",
    "version": 3
   },
   "file_extension": ".py",
   "mimetype": "text/x-python",
   "name": "python",
   "nbconvert_exporter": "python",
   "pygments_lexer": "ipython3",
   "version": "3.7.10"
  }
 },
 "nbformat": 4,
 "nbformat_minor": 4
}
